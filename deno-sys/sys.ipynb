{
 "cells": [
  {
   "cell_type": "code",
   "execution_count": 1,
   "metadata": {},
   "outputs": [
    {
     "name": "stdout",
     "output_type": "stream",
     "text": [
      "[Object: null prototype] {\n",
      "  total: 17114173440,\n",
      "  free: 8160628736,\n",
      "  available: 0,\n",
      "  buffers: 0,\n",
      "  cached: 0,\n",
      "  swapTotal: 2550136,\n",
      "  swapFree: 0\n",
      "}\n",
      "[ 0, 0, 0 ]\n"
     ]
    }
   ],
   "source": [
    "console.log(Deno.systemMemoryInfo());\n",
    "console.log(Deno.loadavg());"
   ]
  }
 ],
 "metadata": {
  "kernelspec": {
   "display_name": "Deno",
   "language": "typescript",
   "name": "deno"
  },
  "language_info": {
   "codemirror_mode": "typescript",
   "file_extension": ".ts",
   "mimetype": "text/x.typescript",
   "name": "typescript",
   "nbconvert_exporter": "script",
   "pygments_lexer": "typescript",
   "version": "5.8.3"
  }
 },
 "nbformat": 4,
 "nbformat_minor": 2
}
